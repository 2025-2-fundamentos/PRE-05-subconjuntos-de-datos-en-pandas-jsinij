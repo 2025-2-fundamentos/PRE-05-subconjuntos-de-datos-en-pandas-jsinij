{
 "cells": [
  {
   "cell_type": "code",
   "execution_count": null,
   "id": "10b7ab53",
   "metadata": {},
   "outputs": [],
   "source": [
    "#Prueba XDDD"
   ]
  }
 ],
 "metadata": {
  "language_info": {
   "name": "python"
  }
 },
 "nbformat": 4,
 "nbformat_minor": 5
}
